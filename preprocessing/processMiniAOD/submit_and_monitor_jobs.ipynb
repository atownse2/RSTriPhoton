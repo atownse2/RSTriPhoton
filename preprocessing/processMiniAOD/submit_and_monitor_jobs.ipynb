{
 "cells": [
  {
   "cell_type": "code",
   "execution_count": 2,
   "metadata": {},
   "outputs": [],
   "source": [
    "import htcondor\n",
    "import classad"
   ]
  },
  {
   "cell_type": "code",
   "execution_count": null,
   "metadata": {},
   "outputs": [],
   "source": [
    "def submit_job(executable, arguments, requirements=None):\n",
    "    submit_description = classad.ClassAd({\n",
    "        \"Executable\": executable,\n",
    "        \"Arguments\": arguments,\n",
    "        \"Output\": \"job_output.txt\",\n",
    "        \"Error\": \"job_error.txt\",\n",
    "        \"Log\": \"job_log.txt\",\n",
    "        \"request_cpus\": \"1\",\n",
    "        \"request_memory\": \"1GB\",\n",
    "        \"request_disk\": \"1GB\",\n",
    "    })\n",
    "    if requirements:\n",
    "        submit_description[\"Requirements\"] = requirements\n",
    "\n",
    "    schedd = htcondor.Schedd()\n",
    "    with schedd.transaction() as txn:\n",
    "        cluster_id = schedd.submit(submit_description, 1, txn)\n",
    "    return cluster_id"
   ]
  },
  {
   "cell_type": "code",
   "execution_count": null,
   "metadata": {},
   "outputs": [],
   "source": [
    "failed_jobs = {}\n",
    "failed_nodes = set()"
   ]
  },
  {
   "cell_type": "code",
   "execution_count": null,
   "metadata": {},
   "outputs": [],
   "source": [
    "def resubmit_failed_jobs():\n",
    "    schedd = htcondor.Schedd()\n",
    "    for job_id in failed_jobs.keys():\n",
    "        if failed_nodes:  # Only add requirements if there are failed nodes\n",
    "            requirements = \" && \".join(f\"(Machine != \\\"{node}\\\")\" for node in failed_nodes)\n",
    "            submit_job(\"executable\", \"arguments\", requirements)\n",
    "            print(f\"Resubmitted job {job_id} avoiding all failed nodes: {', '.join(failed_nodes)}\")\n",
    "        else:\n",
    "            submit_job(\"executable\", \"arguments\")\n",
    "            print(f\"Resubmitted job {job_id} without additional requirements\")"
   ]
  },
  {
   "cell_type": "code",
   "execution_count": null,
   "metadata": {},
   "outputs": [],
   "source": [
    "query = schedd.xquery(projection=[\"ClusterId\", \"ProcId\", \"JobStatus\", \"LastRemoteHost\"])\n",
    "for job in query:\n",
    "    job_id = f\"{job['ClusterId']}.{job['ProcId']}\"\n",
    "    status = job.get('JobStatus')\n",
    "    last_remote_host = job.get('LastRemoteHost', None)\n",
    "    \n",
    "    if status == 3:  # Job status 3 corresponds to \"Removed\"\n",
    "        print(f\"Job {job_id} was removed.\")\n",
    "        continue\n",
    "    \n",
    "    if status == 4:  # Job status 4 corresponds to \"Completed\"\n",
    "        print(f\"Job {job_id} completed successfully.\")\n",
    "        continue\n",
    "    \n",
    "    if status == 5:  # Job status 5 corresponds to \"Held\"\n",
    "        if last_remote_host:\n",
    "            failed_nodes.add(last_remote_host)\n",
    "            failed_jobs[job_id] = last_remote_host\n",
    "            print(f\"Job {job_id} failed on node {last_remote_host}. Will avoid this node for future submissions.\")\n",
    "            resubmit_failed_jobs()\n",
    "            failed_jobs.pop(job_id, None)  # Remove the job from failed_jobs after resubmission"
   ]
  }
 ],
 "metadata": {
  "kernelspec": {
   "display_name": "Python 3",
   "language": "python",
   "name": "python3"
  },
  "language_info": {
   "codemirror_mode": {
    "name": "ipython",
    "version": 3
   },
   "file_extension": ".py",
   "mimetype": "text/x-python",
   "name": "python",
   "nbconvert_exporter": "python",
   "pygments_lexer": "ipython3",
   "version": "3.9.18"
  }
 },
 "nbformat": 4,
 "nbformat_minor": 2
}
