{
 "cells": [
  {
   "cell_type": "code",
   "execution_count": 3,
   "metadata": {},
   "outputs": [],
   "source": [
    "import sys\n",
    "import importlib\n",
    "\n",
    "from distributed import Client\n",
    "\n",
    "import dask\n",
    "from coffea import processor\n",
    "from coffea.nanoevents import NanoEventsFactory, BaseSchema\n",
    "\n",
    "sys.path.append('../')\n",
    "import analysis.utils.sample_info as si\n",
    "from analysis.workflows.explore import ExplorationProcessor"
   ]
  },
  {
   "cell_type": "code",
   "execution_count": 3,
   "metadata": {},
   "outputs": [],
   "source": [
    "datasets = si.get_datasets('signal', tuple_version='FlatAODv3')"
   ]
  },
  {
   "cell_type": "code",
   "execution_count": 13,
   "metadata": {},
   "outputs": [
    {
     "data": {
      "application/vnd.jupyter.widget-view+json": {
       "model_id": "c77c6c6485d3449fbbaddae7fdbd693d",
       "version_major": 2,
       "version_minor": 0
      },
      "text/plain": [
       "Output()"
      ]
     },
     "metadata": {},
     "output_type": "display_data"
    },
    {
     "name": "stderr",
     "output_type": "stream",
     "text": [
      "/afs/crc.nd.edu/user/a/atownse2/micromamba/envs/triphoton-env/lib/python3.9/site-packages/awkward/_nplikes/array_module.py:271: RuntimeWarning: invalid value encountered in sqrt\n",
      "  return impl(*non_generic_value_promoted_args, **(kwargs or {}))\n"
     ]
    },
    {
     "name": "stderr",
     "output_type": "stream",
     "text": [
      "/afs/crc.nd.edu/user/a/atownse2/micromamba/envs/triphoton-env/lib/python3.9/site-packages/awkward/_nplikes/array_module.py:271: RuntimeWarning: divide by zero encountered in divide\n",
      "  return impl(*non_generic_value_promoted_args, **(kwargs or {}))\n"
     ]
    },
    {
     "name": "stderr",
     "output_type": "stream",
     "text": [
      "/afs/crc.nd.edu/user/a/atownse2/micromamba/envs/triphoton-env/lib/python3.9/site-packages/awkward/_nplikes/array_module.py:271: RuntimeWarning: divide by zero encountered in divide\n",
      "  return impl(*non_generic_value_promoted_args, **(kwargs or {}))\n"
     ]
    },
    {
     "name": "stderr",
     "output_type": "stream",
     "text": [
      "/afs/crc.nd.edu/user/a/atownse2/micromamba/envs/triphoton-env/lib/python3.9/site-packages/awkward/_nplikes/array_module.py:271: RuntimeWarning: invalid value encountered in sqrt\n",
      "  return impl(*non_generic_value_promoted_args, **(kwargs or {}))\n"
     ]
    },
    {
     "data": {
      "text/html": [
       "<pre style=\"white-space:pre;overflow-x:auto;line-height:normal;font-family:Menlo,'DejaVu Sans Mono',consolas,'Courier New',monospace\"></pre>\n"
      ],
      "text/plain": []
     },
     "metadata": {},
     "output_type": "display_data"
    },
    {
     "data": {
      "text/html": [
       "<pre style=\"white-space:pre;overflow-x:auto;line-height:normal;font-family:Menlo,'DejaVu Sans Mono',consolas,'Courier New',monospace\">\n",
       "</pre>\n"
      ],
      "text/plain": [
       "\n"
      ]
     },
     "metadata": {},
     "output_type": "display_data"
    }
   ],
   "source": [
    "executor = processor.futures_executor(workers=2)\n",
    "\n",
    "run = processor.Runner(\n",
    "    executor=executor,\n",
    "    schema = BaseSchema)\n",
    "\n",
    "out = run(datasets, '/flattener/tree', processor_instance=ExplorationProcessor())\n",
    "\n",
    "hists = dask.compute(out)"
   ]
  },
  {
   "cell_type": "code",
   "execution_count": 12,
   "metadata": {},
   "outputs": [
    {
     "data": {
      "application/vnd.jupyter.widget-view+json": {
       "model_id": "734c6194dfa344219008016a8ced936f",
       "version_major": 2,
       "version_minor": 0
      },
      "text/plain": [
       "Output()"
      ]
     },
     "metadata": {},
     "output_type": "display_data"
    },
    {
     "name": "stderr",
     "output_type": "stream",
     "text": [
      "/afs/crc.nd.edu/user/a/atownse2/micromamba/envs/triphoton-env/lib/python3.9/site-packages/awkward/_nplikes/array_module.py:271: RuntimeWarning: invalid value encountered in sqrt\n",
      "  return impl(*non_generic_value_promoted_args, **(kwargs or {}))\n"
     ]
    },
    {
     "name": "stderr",
     "output_type": "stream",
     "text": [
      "/afs/crc.nd.edu/user/a/atownse2/micromamba/envs/triphoton-env/lib/python3.9/site-packages/awkward/_nplikes/array_module.py:271: RuntimeWarning: invalid value encountered in sqrt\n",
      "  return impl(*non_generic_value_promoted_args, **(kwargs or {}))\n"
     ]
    },
    {
     "name": "stderr",
     "output_type": "stream",
     "text": [
      "/afs/crc.nd.edu/user/a/atownse2/micromamba/envs/triphoton-env/lib/python3.9/site-packages/awkward/_nplikes/array_module.py:271: RuntimeWarning: divide by zero encountered in divide\n",
      "  return impl(*non_generic_value_promoted_args, **(kwargs or {}))\n",
      "/afs/crc.nd.edu/user/a/atownse2/micromamba/envs/triphoton-env/lib/python3.9/site-packages/awkward/_nplikes/array_module.py:271: RuntimeWarning: divide by zero encountered in divide\n",
      "  return impl(*non_generic_value_promoted_args, **(kwargs or {}))\n"
     ]
    },
    {
     "data": {
      "text/html": [
       "<pre style=\"white-space:pre;overflow-x:auto;line-height:normal;font-family:Menlo,'DejaVu Sans Mono',consolas,'Courier New',monospace\"></pre>\n"
      ],
      "text/plain": []
     },
     "metadata": {},
     "output_type": "display_data"
    },
    {
     "data": {
      "text/html": [
       "<pre style=\"white-space:pre;overflow-x:auto;line-height:normal;font-family:Menlo,'DejaVu Sans Mono',consolas,'Courier New',monospace\">\n",
       "</pre>\n"
      ],
      "text/plain": [
       "\n"
      ]
     },
     "metadata": {},
     "output_type": "display_data"
    }
   ],
   "source": [
    "executor = processor.futures_executor(workers=8)\n",
    "\n",
    "run = processor.Runner(\n",
    "    executor=executor,\n",
    "    schema = BaseSchema)\n",
    "\n",
    "out = run(datasets, '/flattener/tree', processor_instance=ExplorationProcessor())\n",
    "\n",
    "hists = dask.compute(out)"
   ]
  },
  {
   "cell_type": "code",
   "execution_count": 14,
   "metadata": {},
   "outputs": [
    {
     "data": {
      "application/vnd.jupyter.widget-view+json": {
       "model_id": "6f4e26dbf9a541808b8ea3d64b203d87",
       "version_major": 2,
       "version_minor": 0
      },
      "text/plain": [
       "Output()"
      ]
     },
     "metadata": {},
     "output_type": "display_data"
    },
    {
     "name": "stderr",
     "output_type": "stream",
     "text": [
      "/afs/crc.nd.edu/user/a/atownse2/micromamba/envs/triphoton-env/lib/python3.9/site-packages/awkward/_nplikes/array_module.py:271: RuntimeWarning: invalid value encountered in sqrt\n",
      "  return impl(*non_generic_value_promoted_args, **(kwargs or {}))\n"
     ]
    },
    {
     "name": "stderr",
     "output_type": "stream",
     "text": [
      "/afs/crc.nd.edu/user/a/atownse2/micromamba/envs/triphoton-env/lib/python3.9/site-packages/awkward/_nplikes/array_module.py:271: RuntimeWarning: invalid value encountered in sqrt\n",
      "  return impl(*non_generic_value_promoted_args, **(kwargs or {}))\n"
     ]
    },
    {
     "name": "stderr",
     "output_type": "stream",
     "text": [
      "/afs/crc.nd.edu/user/a/atownse2/micromamba/envs/triphoton-env/lib/python3.9/site-packages/awkward/_nplikes/array_module.py:271: RuntimeWarning: divide by zero encountered in divide\n",
      "  return impl(*non_generic_value_promoted_args, **(kwargs or {}))\n"
     ]
    },
    {
     "data": {
      "text/html": [
       "<pre style=\"white-space:pre;overflow-x:auto;line-height:normal;font-family:Menlo,'DejaVu Sans Mono',consolas,'Courier New',monospace\"></pre>\n"
      ],
      "text/plain": []
     },
     "metadata": {},
     "output_type": "display_data"
    },
    {
     "data": {
      "text/html": [
       "<pre style=\"white-space:pre;overflow-x:auto;line-height:normal;font-family:Menlo,'DejaVu Sans Mono',consolas,'Courier New',monospace\">\n",
       "</pre>\n"
      ],
      "text/plain": [
       "\n"
      ]
     },
     "metadata": {},
     "output_type": "display_data"
    }
   ],
   "source": [
    "executor = processor.futures_executor(workers=8)\n",
    "\n",
    "run = processor.Runner(\n",
    "    executor=executor,\n",
    "    schema = BaseSchema)\n",
    "\n",
    "out = run(datasets, '/flattener/tree', processor_instance=ExplorationProcessor())\n",
    "\n",
    "hists = dask.compute(out,\n",
    "                     scheduler='processes',\n",
    "                     num_workers=8)"
   ]
  },
  {
   "cell_type": "code",
   "execution_count": 17,
   "metadata": {},
   "outputs": [
    {
     "data": {
      "application/vnd.jupyter.widget-view+json": {
       "model_id": "613a768f19eb4a61acb0c515d78c8941",
       "version_major": 2,
       "version_minor": 0
      },
      "text/plain": [
       "Output()"
      ]
     },
     "metadata": {},
     "output_type": "display_data"
    },
    {
     "data": {
      "text/html": [
       "<pre style=\"white-space:pre;overflow-x:auto;line-height:normal;font-family:Menlo,'DejaVu Sans Mono',consolas,'Courier New',monospace\">/afs/crc.nd.edu/user/a/atownse2/micromamba/envs/triphoton-env/lib/python3.9/site-packages/awkward/_nplikes/array_mo\n",
       "dule.py:271: RuntimeWarning: invalid value encountered in sqrt\n",
       "  return impl(*non_generic_value_promoted_args, **(kwargs or {}))\n",
       "</pre>\n"
      ],
      "text/plain": [
       "/afs/crc.nd.edu/user/a/atownse2/micromamba/envs/triphoton-env/lib/python3.9/site-packages/awkward/_nplikes/array_mo\n",
       "dule.py:271: RuntimeWarning: invalid value encountered in sqrt\n",
       "  return impl(*non_generic_value_promoted_args, **(kwargs or {}))\n"
      ]
     },
     "metadata": {},
     "output_type": "display_data"
    },
    {
     "data": {
      "text/html": [
       "<pre style=\"white-space:pre;overflow-x:auto;line-height:normal;font-family:Menlo,'DejaVu Sans Mono',consolas,'Courier New',monospace\">/afs/crc.nd.edu/user/a/atownse2/micromamba/envs/triphoton-env/lib/python3.9/site-packages/awkward/_nplikes/array_mo\n",
       "dule.py:271: RuntimeWarning: divide by zero encountered in divide\n",
       "  return impl(*non_generic_value_promoted_args, **(kwargs or {}))\n",
       "</pre>\n"
      ],
      "text/plain": [
       "/afs/crc.nd.edu/user/a/atownse2/micromamba/envs/triphoton-env/lib/python3.9/site-packages/awkward/_nplikes/array_mo\n",
       "dule.py:271: RuntimeWarning: divide by zero encountered in divide\n",
       "  return impl(*non_generic_value_promoted_args, **(kwargs or {}))\n"
      ]
     },
     "metadata": {},
     "output_type": "display_data"
    },
    {
     "data": {
      "text/html": [
       "<pre style=\"white-space:pre;overflow-x:auto;line-height:normal;font-family:Menlo,'DejaVu Sans Mono',consolas,'Courier New',monospace\"></pre>\n"
      ],
      "text/plain": []
     },
     "metadata": {},
     "output_type": "display_data"
    },
    {
     "data": {
      "text/html": [
       "<pre style=\"white-space:pre;overflow-x:auto;line-height:normal;font-family:Menlo,'DejaVu Sans Mono',consolas,'Courier New',monospace\">\n",
       "</pre>\n"
      ],
      "text/plain": [
       "\n"
      ]
     },
     "metadata": {},
     "output_type": "display_data"
    }
   ],
   "source": [
    "executor = processor.iterative_executor()\n",
    "\n",
    "run = processor.Runner(\n",
    "    executor=executor,\n",
    "    schema = BaseSchema)\n",
    "\n",
    "out = run(datasets, '/flattener/tree', processor_instance=ExplorationProcessor())\n",
    "\n",
    "hists = dask.compute(out,\n",
    "                     scheduler='processes',\n",
    "                     num_workers=8)"
   ]
  }
 ],
 "metadata": {
  "kernelspec": {
   "display_name": "Python 3",
   "language": "python",
   "name": "python3"
  },
  "language_info": {
   "codemirror_mode": {
    "name": "ipython",
    "version": 3
   },
   "file_extension": ".py",
   "mimetype": "text/x-python",
   "name": "python",
   "nbconvert_exporter": "python",
   "pygments_lexer": "ipython3",
   "version": "3.9.18"
  }
 },
 "nbformat": 4,
 "nbformat_minor": 2
}
